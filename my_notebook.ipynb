{
 "cells": [
  {
   "cell_type": "code",
   "execution_count": 1,
   "metadata": {},
   "outputs": [
    {
     "name": "stdout",
     "output_type": "stream",
     "text": [
      "8\n"
     ]
    }
   ],
   "source": [
    "from my_module import add, subtract, multiply, divide\n",
    "   \n",
    "print(add(5, 3))  # Will use the updated version"
   ]
  },
  {
   "cell_type": "code",
   "execution_count": 3,
   "metadata": {},
   "outputs": [
    {
     "name": "stdout",
     "output_type": "stream",
     "text": [
      "8\n"
     ]
    }
   ],
   "source": [
    "import importlib\n",
    "import my_module.math_operations\n",
    "   \n",
    "# Reload the specific submodule\n",
    "importlib.reload(my_module.math_operations)\n",
    "   \n",
    "# Then reload the main module\n",
    "importlib.reload(my_module)\n",
    "   \n",
    "# Now import the updated functions\n",
    "from my_module import add, subtract, multiply, divide\n",
    "\n",
    "print(add(5,3))"
   ]
  }
 ],
 "metadata": {
  "kernelspec": {
   "display_name": "Python 3",
   "language": "python",
   "name": "python3"
  },
  "language_info": {
   "codemirror_mode": {
    "name": "ipython",
    "version": 3
   },
   "file_extension": ".py",
   "mimetype": "text/x-python",
   "name": "python",
   "nbconvert_exporter": "python",
   "pygments_lexer": "ipython3",
   "version": "3.12.1"
  }
 },
 "nbformat": 4,
 "nbformat_minor": 2
}
